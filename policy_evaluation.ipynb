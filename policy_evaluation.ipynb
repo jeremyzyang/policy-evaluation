{
 "cells": [
  {
   "cell_type": "code",
   "execution_count": 8,
   "metadata": {
    "scrolled": false
   },
   "outputs": [],
   "source": [
    "library(randomizr)\n",
    "library(ri2)\n",
    "library(dplyr)"
   ]
  },
  {
   "cell_type": "markdown",
   "metadata": {},
   "source": [
    "## Part I: Fisherian randomization inference"
   ]
  },
  {
   "cell_type": "code",
   "execution_count": 9,
   "metadata": {},
   "outputs": [],
   "source": [
    "df = read.csv('cai_training.csv')"
   ]
  },
  {
   "cell_type": "code",
   "execution_count": 10,
   "metadata": {
    "scrolled": true
   },
   "outputs": [
    {
     "data": {
      "text/html": [
       "<ol class=list-inline>\n",
       "\t<li>4902</li>\n",
       "\t<li>25</li>\n",
       "</ol>\n"
      ],
      "text/latex": [
       "\\begin{enumerate*}\n",
       "\\item 4902\n",
       "\\item 25\n",
       "\\end{enumerate*}\n"
      ],
      "text/markdown": [
       "1. 4902\n",
       "2. 25\n",
       "\n",
       "\n"
      ],
      "text/plain": [
       "[1] 4902   25"
      ]
     },
     "metadata": {},
     "output_type": "display_data"
    },
    {
     "data": {
      "text/html": [
       "<ol class=list-inline>\n",
       "\t<li>'id'</li>\n",
       "\t<li>'region'</li>\n",
       "\t<li>'village'</li>\n",
       "\t<li>'age'</li>\n",
       "\t<li>'agpop'</li>\n",
       "\t<li>'rice_inc'</li>\n",
       "\t<li>'ricearea_2010'</li>\n",
       "\t<li>'general_trust'</li>\n",
       "\t<li>'educ'</li>\n",
       "\t<li>'educ_good'</li>\n",
       "\t<li>'male'</li>\n",
       "\t<li>'disaster_loss'</li>\n",
       "\t<li>'disaster_yes'</li>\n",
       "\t<li>'risk_averse'</li>\n",
       "\t<li>'literacy'</li>\n",
       "\t<li>'age_missing'</li>\n",
       "\t<li>'agpop_missing'</li>\n",
       "\t<li>'rice_inc_missing'</li>\n",
       "\t<li>'ricearea_2010_missing'</li>\n",
       "\t<li>'disaster_loss_missing'</li>\n",
       "\t<li>'educ_missing'</li>\n",
       "\t<li>'intensive'</li>\n",
       "\t<li>'takeup_survey'</li>\n",
       "\t<li>'block'</li>\n",
       "\t<li>'prob'</li>\n",
       "</ol>\n"
      ],
      "text/latex": [
       "\\begin{enumerate*}\n",
       "\\item 'id'\n",
       "\\item 'region'\n",
       "\\item 'village'\n",
       "\\item 'age'\n",
       "\\item 'agpop'\n",
       "\\item 'rice\\_inc'\n",
       "\\item 'ricearea\\_2010'\n",
       "\\item 'general\\_trust'\n",
       "\\item 'educ'\n",
       "\\item 'educ\\_good'\n",
       "\\item 'male'\n",
       "\\item 'disaster\\_loss'\n",
       "\\item 'disaster\\_yes'\n",
       "\\item 'risk\\_averse'\n",
       "\\item 'literacy'\n",
       "\\item 'age\\_missing'\n",
       "\\item 'agpop\\_missing'\n",
       "\\item 'rice\\_inc\\_missing'\n",
       "\\item 'ricearea\\_2010\\_missing'\n",
       "\\item 'disaster\\_loss\\_missing'\n",
       "\\item 'educ\\_missing'\n",
       "\\item 'intensive'\n",
       "\\item 'takeup\\_survey'\n",
       "\\item 'block'\n",
       "\\item 'prob'\n",
       "\\end{enumerate*}\n"
      ],
      "text/markdown": [
       "1. 'id'\n",
       "2. 'region'\n",
       "3. 'village'\n",
       "4. 'age'\n",
       "5. 'agpop'\n",
       "6. 'rice_inc'\n",
       "7. 'ricearea_2010'\n",
       "8. 'general_trust'\n",
       "9. 'educ'\n",
       "10. 'educ_good'\n",
       "11. 'male'\n",
       "12. 'disaster_loss'\n",
       "13. 'disaster_yes'\n",
       "14. 'risk_averse'\n",
       "15. 'literacy'\n",
       "16. 'age_missing'\n",
       "17. 'agpop_missing'\n",
       "18. 'rice_inc_missing'\n",
       "19. 'ricearea_2010_missing'\n",
       "20. 'disaster_loss_missing'\n",
       "21. 'educ_missing'\n",
       "22. 'intensive'\n",
       "23. 'takeup_survey'\n",
       "24. 'block'\n",
       "25. 'prob'\n",
       "\n",
       "\n"
      ],
      "text/plain": [
       " [1] \"id\"                    \"region\"                \"village\"              \n",
       " [4] \"age\"                   \"agpop\"                 \"rice_inc\"             \n",
       " [7] \"ricearea_2010\"         \"general_trust\"         \"educ\"                 \n",
       "[10] \"educ_good\"             \"male\"                  \"disaster_loss\"        \n",
       "[13] \"disaster_yes\"          \"risk_averse\"           \"literacy\"             \n",
       "[16] \"age_missing\"           \"agpop_missing\"         \"rice_inc_missing\"     \n",
       "[19] \"ricearea_2010_missing\" \"disaster_loss_missing\" \"educ_missing\"         \n",
       "[22] \"intensive\"             \"takeup_survey\"         \"block\"                \n",
       "[25] \"prob\"                 "
      ]
     },
     "metadata": {},
     "output_type": "display_data"
    }
   ],
   "source": [
    "dim(df);colnames(df)"
   ]
  },
  {
   "cell_type": "code",
   "execution_count": 11,
   "metadata": {},
   "outputs": [
    {
     "data": {
      "text/html": [
       "<table>\n",
       "<thead><tr><th scope=col>id</th><th scope=col>region</th><th scope=col>village</th><th scope=col>age</th><th scope=col>agpop</th><th scope=col>rice_inc</th><th scope=col>ricearea_2010</th><th scope=col>general_trust</th><th scope=col>educ</th><th scope=col>educ_good</th><th scope=col>⋯</th><th scope=col>age_missing</th><th scope=col>agpop_missing</th><th scope=col>rice_inc_missing</th><th scope=col>ricearea_2010_missing</th><th scope=col>disaster_loss_missing</th><th scope=col>educ_missing</th><th scope=col>intensive</th><th scope=col>takeup_survey</th><th scope=col>block</th><th scope=col>prob</th></tr></thead>\n",
       "<tbody>\n",
       "\t<tr><td>1    </td><td>1    </td><td>12   </td><td>76   </td><td>5    </td><td> 40  </td><td> 5.00</td><td>1    </td><td>1    </td><td>0    </td><td>⋯    </td><td>0    </td><td>0    </td><td>0    </td><td>0    </td><td>1    </td><td>0    </td><td>0    </td><td>1    </td><td>  5  </td><td>0.25 </td></tr>\n",
       "\t<tr><td>1    </td><td>1    </td><td>12   </td><td>54   </td><td>4    </td><td>100  </td><td>10.00</td><td>0    </td><td>0    </td><td>0    </td><td>⋯    </td><td>0    </td><td>0    </td><td>0    </td><td>0    </td><td>0    </td><td>0    </td><td>1    </td><td>1    </td><td>  1  </td><td>0.50 </td></tr>\n",
       "\t<tr><td>1    </td><td>1    </td><td>12   </td><td>67   </td><td>2    </td><td> 60  </td><td>10.00</td><td>1    </td><td>2    </td><td>1    </td><td>⋯    </td><td>0    </td><td>0    </td><td>0    </td><td>0    </td><td>1    </td><td>0    </td><td>1    </td><td>1    </td><td>  2  </td><td>0.25 </td></tr>\n",
       "\t<tr><td>1    </td><td>1    </td><td>12   </td><td>74   </td><td>2    </td><td> 30  </td><td> 0.74</td><td>1    </td><td>1    </td><td>0    </td><td>⋯    </td><td>0    </td><td>0    </td><td>0    </td><td>0    </td><td>0    </td><td>0    </td><td>0    </td><td>1    </td><td>253  </td><td>0.25 </td></tr>\n",
       "\t<tr><td>1    </td><td>1    </td><td>12   </td><td>60   </td><td>6    </td><td> 50  </td><td>11.00</td><td>0    </td><td>1    </td><td>0    </td><td>⋯    </td><td>0    </td><td>0    </td><td>0    </td><td>0    </td><td>0    </td><td>0    </td><td>0    </td><td>1    </td><td>414  </td><td>0.25 </td></tr>\n",
       "\t<tr><td>1    </td><td>1    </td><td>12   </td><td>56   </td><td>6    </td><td> 90  </td><td>13.00</td><td>0    </td><td>1    </td><td>0    </td><td>⋯    </td><td>0    </td><td>0    </td><td>0    </td><td>0    </td><td>1    </td><td>0    </td><td>1    </td><td>0    </td><td>277  </td><td>0.50 </td></tr>\n",
       "</tbody>\n",
       "</table>\n"
      ],
      "text/latex": [
       "\\begin{tabular}{r|lllllllllllllllllllllllll}\n",
       " id & region & village & age & agpop & rice\\_inc & ricearea\\_2010 & general\\_trust & educ & educ\\_good & ⋯ & age\\_missing & agpop\\_missing & rice\\_inc\\_missing & ricearea\\_2010\\_missing & disaster\\_loss\\_missing & educ\\_missing & intensive & takeup\\_survey & block & prob\\\\\n",
       "\\hline\n",
       "\t 1     & 1     & 12    & 76    & 5     &  40   &  5.00 & 1     & 1     & 0     & ⋯     & 0     & 0     & 0     & 0     & 1     & 0     & 0     & 1     &   5   & 0.25 \\\\\n",
       "\t 1     & 1     & 12    & 54    & 4     & 100   & 10.00 & 0     & 0     & 0     & ⋯     & 0     & 0     & 0     & 0     & 0     & 0     & 1     & 1     &   1   & 0.50 \\\\\n",
       "\t 1     & 1     & 12    & 67    & 2     &  60   & 10.00 & 1     & 2     & 1     & ⋯     & 0     & 0     & 0     & 0     & 1     & 0     & 1     & 1     &   2   & 0.25 \\\\\n",
       "\t 1     & 1     & 12    & 74    & 2     &  30   &  0.74 & 1     & 1     & 0     & ⋯     & 0     & 0     & 0     & 0     & 0     & 0     & 0     & 1     & 253   & 0.25 \\\\\n",
       "\t 1     & 1     & 12    & 60    & 6     &  50   & 11.00 & 0     & 1     & 0     & ⋯     & 0     & 0     & 0     & 0     & 0     & 0     & 0     & 1     & 414   & 0.25 \\\\\n",
       "\t 1     & 1     & 12    & 56    & 6     &  90   & 13.00 & 0     & 1     & 0     & ⋯     & 0     & 0     & 0     & 0     & 1     & 0     & 1     & 0     & 277   & 0.50 \\\\\n",
       "\\end{tabular}\n"
      ],
      "text/markdown": [
       "\n",
       "id | region | village | age | agpop | rice_inc | ricearea_2010 | general_trust | educ | educ_good | ⋯ | age_missing | agpop_missing | rice_inc_missing | ricearea_2010_missing | disaster_loss_missing | educ_missing | intensive | takeup_survey | block | prob | \n",
       "|---|---|---|---|---|---|\n",
       "| 1     | 1     | 12    | 76    | 5     |  40   |  5.00 | 1     | 1     | 0     | ⋯     | 0     | 0     | 0     | 0     | 1     | 0     | 0     | 1     |   5   | 0.25  | \n",
       "| 1     | 1     | 12    | 54    | 4     | 100   | 10.00 | 0     | 0     | 0     | ⋯     | 0     | 0     | 0     | 0     | 0     | 0     | 1     | 1     |   1   | 0.50  | \n",
       "| 1     | 1     | 12    | 67    | 2     |  60   | 10.00 | 1     | 2     | 1     | ⋯     | 0     | 0     | 0     | 0     | 1     | 0     | 1     | 1     |   2   | 0.25  | \n",
       "| 1     | 1     | 12    | 74    | 2     |  30   |  0.74 | 1     | 1     | 0     | ⋯     | 0     | 0     | 0     | 0     | 0     | 0     | 0     | 1     | 253   | 0.25  | \n",
       "| 1     | 1     | 12    | 60    | 6     |  50   | 11.00 | 0     | 1     | 0     | ⋯     | 0     | 0     | 0     | 0     | 0     | 0     | 0     | 1     | 414   | 0.25  | \n",
       "| 1     | 1     | 12    | 56    | 6     |  90   | 13.00 | 0     | 1     | 0     | ⋯     | 0     | 0     | 0     | 0     | 1     | 0     | 1     | 0     | 277   | 0.50  | \n",
       "\n",
       "\n"
      ],
      "text/plain": [
       "  id region village age agpop rice_inc ricearea_2010 general_trust educ\n",
       "1 1  1      12      76  5      40       5.00         1             1   \n",
       "2 1  1      12      54  4     100      10.00         0             0   \n",
       "3 1  1      12      67  2      60      10.00         1             2   \n",
       "4 1  1      12      74  2      30       0.74         1             1   \n",
       "5 1  1      12      60  6      50      11.00         0             1   \n",
       "6 1  1      12      56  6      90      13.00         0             1   \n",
       "  educ_good ⋯ age_missing agpop_missing rice_inc_missing ricearea_2010_missing\n",
       "1 0         ⋯ 0           0             0                0                    \n",
       "2 0         ⋯ 0           0             0                0                    \n",
       "3 1         ⋯ 0           0             0                0                    \n",
       "4 0         ⋯ 0           0             0                0                    \n",
       "5 0         ⋯ 0           0             0                0                    \n",
       "6 0         ⋯ 0           0             0                0                    \n",
       "  disaster_loss_missing educ_missing intensive takeup_survey block prob\n",
       "1 1                     0            0         1               5   0.25\n",
       "2 0                     0            1         1               1   0.50\n",
       "3 1                     0            1         1               2   0.25\n",
       "4 0                     0            0         1             253   0.25\n",
       "5 0                     0            0         1             414   0.25\n",
       "6 1                     0            1         0             277   0.50"
      ]
     },
     "metadata": {},
     "output_type": "display_data"
    }
   ],
   "source": [
    "head(df)"
   ]
  },
  {
   "cell_type": "code",
   "execution_count": 12,
   "metadata": {},
   "outputs": [],
   "source": [
    "# store the probability of receiving the treatment by block\n",
    "block_prob = df %>% select(block,prob) %>% group_by(block) %>% slice(1)"
   ]
  },
  {
   "cell_type": "code",
   "execution_count": 13,
   "metadata": {},
   "outputs": [],
   "source": [
    "# declare the randonmization procedure\n",
    "ra = declare_ra(N = nrow(df),\n",
    "                blocks = df$block,\n",
    "                block_prob = block_prob$prob)"
   ]
  },
  {
   "cell_type": "code",
   "execution_count": 14,
   "metadata": {
    "scrolled": false
   },
   "outputs": [
    {
     "data": {
      "text/plain": [
       "Random assignment procedure: Block random assignment \n",
       "Number of units: 4902 \n",
       "Number of blocks: 686\n",
       "Number of treatment arms: 2 \n",
       "The possible treatment categories are 0 and 1.\n",
       "The number of possible random assignments is approximately infinite. \n",
       "The probabilities of assignment are NOT constant across units. Your analysis strategy must account for differential probabilities of assignment, typically by employing inverse probability weights."
      ]
     },
     "metadata": {},
     "output_type": "display_data"
    }
   ],
   "source": [
    "ra"
   ]
  },
  {
   "cell_type": "code",
   "execution_count": 15,
   "metadata": {},
   "outputs": [],
   "source": [
    "ri = conduct_ri(takeup_survey ~ intensive, # using regression to analyze the results\n",
    "declaration = ra,\n",
    "assignment = \"intensive\",\n",
    "outcome = 'takeup_survey',\n",
    "sharp_hypothesis = 0,\n",
    "IPW = TRUE,\n",
    "IPW_weights = ifelse(intensive==1,1/prob,1/(1-prob)), # because treatment probability varies across blocks, we use inverse probability weighting\n",
    "sims = 1000, \n",
    "data = df)"
   ]
  },
  {
   "cell_type": "code",
   "execution_count": 17,
   "metadata": {
    "scrolled": true
   },
   "outputs": [
    {
     "data": {
      "text/html": [
       "<table>\n",
       "<thead><tr><th scope=col>term</th><th scope=col>estimate</th><th scope=col>two_tailed_p_value</th></tr></thead>\n",
       "<tbody>\n",
       "\t<tr><td>intensive</td><td>0.1685915</td><td>0        </td></tr>\n",
       "</tbody>\n",
       "</table>\n"
      ],
      "text/latex": [
       "\\begin{tabular}{r|lll}\n",
       " term & estimate & two\\_tailed\\_p\\_value\\\\\n",
       "\\hline\n",
       "\t intensive & 0.1685915 & 0        \\\\\n",
       "\\end{tabular}\n"
      ],
      "text/markdown": [
       "\n",
       "term | estimate | two_tailed_p_value | \n",
       "|---|\n",
       "| intensive | 0.1685915 | 0         | \n",
       "\n",
       "\n"
      ],
      "text/plain": [
       "  term      estimate  two_tailed_p_value\n",
       "1 intensive 0.1685915 0                 "
      ]
     },
     "metadata": {},
     "output_type": "display_data"
    }
   ],
   "source": [
    "summary(ri)"
   ]
  },
  {
   "cell_type": "code",
   "execution_count": 18,
   "metadata": {
    "scrolled": false
   },
   "outputs": [
    {
     "data": {},
     "metadata": {},
     "output_type": "display_data"
    },
    {
     "data": {
      "image/png": "[encoded data removed]",
      "text/plain": [
       "plot without title"
      ]
     },
     "metadata": {},
     "output_type": "display_data"
    }
   ],
   "source": [
    "plot(ri)"
   ]
  },
  {
   "cell_type": "code",
   "execution_count": 29,
   "metadata": {},
   "outputs": [],
   "source": [
    "ra_complete = declare_ra(N = nrow(df),\n",
    "                        m = sum(df$intensive))"
   ]
  },
  {
   "cell_type": "code",
   "execution_count": 30,
   "metadata": {
    "scrolled": true
   },
   "outputs": [
    {
     "data": {
      "text/plain": [
       "Random assignment procedure: Complete random assignment \n",
       "Number of units: 4902 \n",
       "Number of treatment arms: 2 \n",
       "The possible treatment categories are 0 and 1.\n",
       "The number of possible random assignments is approximately infinite. \n",
       "The probabilities of assignment are constant across units: \n",
       "   prob_0    prob_1 \n",
       "0.6003672 0.3996328 "
      ]
     },
     "metadata": {},
     "output_type": "display_data"
    }
   ],
   "source": [
    "ra_complete"
   ]
  },
  {
   "cell_type": "code",
   "execution_count": 31,
   "metadata": {},
   "outputs": [],
   "source": [
    "ri_complete = conduct_ri(takeup_survey ~ intensive,\n",
    "declaration = ra_complete,\n",
    "assignment = \"intensive\",\n",
    "outcome = 'takeup_survey',\n",
    "sharp_hypothesis = 0,\n",
    "sims = 1000, \n",
    "data = df)"
   ]
  },
  {
   "cell_type": "code",
   "execution_count": 32,
   "metadata": {
    "scrolled": true
   },
   "outputs": [
    {
     "data": {
      "text/html": [
       "<table>\n",
       "<thead><tr><th scope=col>term</th><th scope=col>estimate</th><th scope=col>two_tailed_p_value</th></tr></thead>\n",
       "<tbody>\n",
       "\t<tr><td>intensive</td><td>0.215977 </td><td>0        </td></tr>\n",
       "</tbody>\n",
       "</table>\n"
      ],
      "text/latex": [
       "\\begin{tabular}{r|lll}\n",
       " term & estimate & two\\_tailed\\_p\\_value\\\\\n",
       "\\hline\n",
       "\t intensive & 0.215977  & 0        \\\\\n",
       "\\end{tabular}\n"
      ],
      "text/markdown": [
       "\n",
       "term | estimate | two_tailed_p_value | \n",
       "|---|\n",
       "| intensive | 0.215977  | 0         | \n",
       "\n",
       "\n"
      ],
      "text/plain": [
       "  term      estimate two_tailed_p_value\n",
       "1 intensive 0.215977 0                 "
      ]
     },
     "metadata": {},
     "output_type": "display_data"
    }
   ],
   "source": [
    "summary(ri_complete)"
   ]
  },
  {
   "cell_type": "code",
   "execution_count": 33,
   "metadata": {
    "scrolled": false
   },
   "outputs": [
    {
     "data": {},
     "metadata": {},
     "output_type": "display_data"
    },
    {
     "data": {
      "image/png": "[encoded data removed]",
      "text/plain": [
       "plot without title"
      ]
     },
     "metadata": {},
     "output_type": "display_data"
    }
   ],
   "source": [
    "plot(ri_complete)"
   ]
  },
  {
   "cell_type": "markdown",
   "metadata": {},
   "source": [
    "## Part II: Counterfactual policy evaluation & learning"
   ]
  },
  {
   "cell_type": "code",
   "execution_count": 19,
   "metadata": {},
   "outputs": [],
   "source": [
    "# calculate the profit for each individual \n",
    "df$profit = 100*df$takeup_survey - 15*df$intensive"
   ]
  },
  {
   "cell_type": "markdown",
   "metadata": {},
   "source": [
    "We use Hajek estimator to calculate the average outcome under counterfactual policies:\n",
    "\n",
    "$$\\hat{\\mu}(\\pi) = \\frac{1}{\\sum_i{w_i}} \\sum_i Y_iw_i$$ \n",
    "$$w_i = \\frac{\\pi(Z_i|X_i)}{\\pi_0(Z_i|X_i)}$$\n",
    "\n",
    "where $Z_i$ is the treatment assignment, $X_i$ is the covariates and $Y_i$ is the outcome (here we will use the revenue). $\\pi_0$ is the policy that's used for treatment assignment in the experiment, $\\pi$ is the counterfactual policy that we want to evaluate."
   ]
  },
  {
   "cell_type": "markdown",
   "metadata": {},
   "source": [
    "### (1) the policy that treats everybody\n",
    "\n",
    "Under this policy we have:\n",
    "\n",
    "$$\\pi(Z_i|X_i) = \n",
    "\\begin{array}{cc}\n",
    "  \\{ & \n",
    "    \\begin{array}{cc}\n",
    "      1 & Z_i=1 \\\\\n",
    "      0 & Z_i=0\n",
    "    \\end{array}\n",
    "\\end{array}\n",
    "$$"
   ]
  },
  {
   "cell_type": "code",
   "execution_count": 20,
   "metadata": {},
   "outputs": [],
   "source": [
    "# the weights for policy (1)\n",
    "w1 = with(df, \n",
    "          ifelse(intensive==1,1,0)/ifelse(intensive==1,prob,1-prob)) "
   ]
  },
  {
   "cell_type": "code",
   "execution_count": 21,
   "metadata": {
    "scrolled": false
   },
   "outputs": [
    {
     "data": {
      "text/html": [
       "60.9395424836601"
      ],
      "text/latex": [
       "60.9395424836601"
      ],
      "text/markdown": [
       "60.9395424836601"
      ],
      "text/plain": [
       "[1] 60.93954"
      ]
     },
     "metadata": {},
     "output_type": "display_data"
    },
    {
     "data": {
      "text/html": [
       "298725.637254902"
      ],
      "text/latex": [
       "298725.637254902"
      ],
      "text/markdown": [
       "298725.637254902"
      ],
      "text/plain": [
       "[1] 298725.6"
      ]
     },
     "metadata": {},
     "output_type": "display_data"
    }
   ],
   "source": [
    "# calculate the average profit under policy (1)\n",
    "mu1 = weighted.mean(df$profit,w1)\n",
    "mu1\n",
    "\n",
    "# total profit\n",
    "mu1 * nrow(df)"
   ]
  },
  {
   "cell_type": "markdown",
   "metadata": {},
   "source": [
    "### (2) the policy that treats nobody\n",
    "\n",
    "Under this policy we have:\n",
    "\n",
    "$$\\pi(Z_i|X_i) = \n",
    "\\begin{array}{cc}\n",
    "  \\{ & \n",
    "    \\begin{array}{cc}\n",
    "      0 & Z_i=1 \\\\\n",
    "      1 & Z_i=0\n",
    "    \\end{array}\n",
    "\\end{array}\n",
    "$$"
   ]
  },
  {
   "cell_type": "code",
   "execution_count": 22,
   "metadata": {},
   "outputs": [],
   "source": [
    "# the weights for policy (2)\n",
    "w2 = with(df, \n",
    "          ifelse(intensive==1,0,1)/ifelse(intensive==1,prob,1-prob)) "
   ]
  },
  {
   "cell_type": "code",
   "execution_count": 23,
   "metadata": {
    "scrolled": false
   },
   "outputs": [
    {
     "data": {
      "text/html": [
       "59.0803972248674"
      ],
      "text/latex": [
       "59.0803972248674"
      ],
      "text/markdown": [
       "59.0803972248674"
      ],
      "text/plain": [
       "[1] 59.0804"
      ]
     },
     "metadata": {},
     "output_type": "display_data"
    },
    {
     "data": {
      "text/html": [
       "289612.1071963"
      ],
      "text/latex": [
       "289612.1071963"
      ],
      "text/markdown": [
       "289612.1071963"
      ],
      "text/plain": [
       "[1] 289612.1"
      ]
     },
     "metadata": {},
     "output_type": "display_data"
    }
   ],
   "source": [
    "# calculate the average profit under policy (2)\n",
    "mu2 = weighted.mean(df$profit,w2)\n",
    "mu2\n",
    "\n",
    "# total profit\n",
    "mu2 * nrow(df)"
   ]
  },
  {
   "cell_type": "markdown",
   "metadata": {},
   "source": [
    "### (3) the policy that treats 20% at random\n",
    "\n",
    "Under this policy we have:\n",
    "\n",
    "$$\\pi(Z_i|X_i) = \n",
    "\\begin{array}{cc}\n",
    "  \\{ & \n",
    "    \\begin{array}{cc}\n",
    "      0.2 & Z_i=1 \\\\\n",
    "      0.8 & Z_i=0\n",
    "    \\end{array}\n",
    "\\end{array}\n",
    "$$"
   ]
  },
  {
   "cell_type": "code",
   "execution_count": 24,
   "metadata": {},
   "outputs": [],
   "source": [
    "# the weights for policy (3)\n",
    "w3 = with(df, \n",
    "          ifelse(intensive==1,0.2,0.8)/ifelse(intensive==1,prob,1-prob)) "
   ]
  },
  {
   "cell_type": "code",
   "execution_count": 25,
   "metadata": {},
   "outputs": [
    {
     "data": {
      "text/html": [
       "59.4519429628823"
      ],
      "text/latex": [
       "59.4519429628823"
      ],
      "text/markdown": [
       "59.4519429628823"
      ],
      "text/plain": [
       "[1] 59.45194"
      ]
     },
     "metadata": {},
     "output_type": "display_data"
    },
    {
     "data": {
      "text/html": [
       "291433.424404049"
      ],
      "text/latex": [
       "291433.424404049"
      ],
      "text/markdown": [
       "291433.424404049"
      ],
      "text/plain": [
       "[1] 291433.4"
      ]
     },
     "metadata": {},
     "output_type": "display_data"
    }
   ],
   "source": [
    "# calculate the average profit under policy (3)\n",
    "mu3 = weighted.mean(df$profit,w3)\n",
    "mu3\n",
    "\n",
    "# total profit\n",
    "mu3 * nrow(df)"
   ]
  },
  {
   "cell_type": "markdown",
   "metadata": {},
   "source": [
    "### (4) the policy that only treats risk aversion score (risk_averse) greater than 0.5:\n",
    "\n",
    "Under this policy we have:\n",
    "\n",
    "\n",
    "$$\\pi(Z_i|X_i) = \n",
    "\\begin{array}{cc}\n",
    "  \\{ & \n",
    "    \\begin{array}{cc}\n",
    "        1 & Z_i=1 \\ \\  \\& \\ \\  \\text{risk_averse > 0.5} \\ \\ \\text{or} \\\\\n",
    "         & Z_i=0 \\ \\  \\& \\ \\  \\text{risk_averse <= 0.5}\\\\\n",
    "        0 & Z_i=1 \\ \\  \\& \\ \\  \\text{risk_averse <= 0.5} \\ \\ \\text{or}\\\\\n",
    "         & Z_i=0 \\ \\  \\& \\ \\  \\text{risk_averse > 0.5}\\\\\n",
    "    \\end{array}\n",
    "\\end{array}\n",
    "$$"
   ]
  },
  {
   "cell_type": "code",
   "execution_count": 26,
   "metadata": {},
   "outputs": [],
   "source": [
    "# the weights for policy (4)\n",
    "w4 = with(df, \n",
    "          ifelse((intensive==1 & risk_averse > 0.5)|(intensive==0 & risk_averse <= 0.5) ,1,0)/ifelse(intensive==1,prob,1-prob)) "
   ]
  },
  {
   "cell_type": "code",
   "execution_count": 27,
   "metadata": {
    "scrolled": false
   },
   "outputs": [
    {
     "data": {
      "text/html": [
       "58.5344594594595"
      ],
      "text/latex": [
       "58.5344594594595"
      ],
      "text/markdown": [
       "58.5344594594595"
      ],
      "text/plain": [
       "[1] 58.53446"
      ]
     },
     "metadata": {},
     "output_type": "display_data"
    },
    {
     "data": {
      "text/html": [
       "286935.92027027"
      ],
      "text/latex": [
       "286935.92027027"
      ],
      "text/markdown": [
       "286935.92027027"
      ],
      "text/plain": [
       "[1] 286935.9"
      ]
     },
     "metadata": {},
     "output_type": "display_data"
    }
   ],
   "source": [
    "# calculate the average revenue under policy (4)\n",
    "mu4 = weighted.mean(df$profit,w4)\n",
    "mu4\n",
    "\n",
    "# total revenue\n",
    "mu4 * nrow(df)"
   ]
  },
  {
   "cell_type": "markdown",
   "metadata": {},
   "source": [
    "### (5) optimal policy\n",
    "\n",
    "<br>\n",
    "\n",
    "The optimal policy only treats people for whom there's a positive treatment effect (net of the cost of treatment). There are different ways of identifying the conditional average treatment effect (CATE) $\\tau(X_i)$, this is an open-ended question and we can take three approaches: \n",
    "\n",
    "#### (1) only use an outcome model \n",
    "\n",
    "We can regress $Y_i$ on treatment $W_i$ and covariates $X_i$, estimate $\\hat{Y}_i(1)$, $\\hat{Y}_i(0)$, then $\\hat{\\tau}(X_i)= \\hat{Y}_i(1) - \\hat{Y}_i(0)$. \n",
    "\n",
    "#### (2) only use a propensity model\n",
    "\n",
    "In this case we make no assumptions on the outcome process, and in an experiment we know the true propensity model. \n",
    "\n",
    "We can construct the transformed outcome $Y_i^* = Y_i(1)\\frac{W_i}{e(X_i)} + Y_i(0)\\frac{1-W_i}{1-e(X_i)}$ then $\\hat{\\tau}(X_i)= E(Y_i^*|X_i)$.\n",
    "\n",
    "#### (3) use a doubly robust score model\n",
    "\n",
    "We can combine the two approaches in (1) and (2) by constructing doubly robutst scores as in the lecture note.\n",
    "\n",
    "<br>\n",
    "\n",
    "Once we have $\\hat{\\tau}(X_i)$, we can target $\\forall i: \\hat{\\tau}(X_i) - c > 0$, where $c$ is the cost of intervention. \n",
    "\n",
    "We can also frame the decision as a weighted classification problem in which the sign of $\\hat{\\tau}(X_i)$ is the class label and the magnitude $|\\hat{\\tau}(X_i)|$ is the weight. One benefit of doing this is that we can use two different sets of covariates for estimating $\\hat{\\tau}(X_i)$ and training the classifier. One reason we might want to do this is that it might not be allowed to condition the targeting policy on certain covariates for fairness reasons, but we can still use those covariates to construct $\\hat{\\tau}(X_i)$."
   ]
  }
 ],
 "metadata": {
  "kernelspec": {
   "display_name": "R",
   "language": "R",
   "name": "ir"
  },
  "language_info": {
   "codemirror_mode": "r",
   "file_extension": ".r",
   "mimetype": "text/x-r-source",
   "name": "R",
   "pygments_lexer": "r",
   "version": "3.5.0"
  }
 },
 "nbformat": 4,
 "nbformat_minor": 2
}
